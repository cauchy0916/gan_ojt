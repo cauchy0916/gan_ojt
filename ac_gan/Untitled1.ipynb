{
 "cells": [
  {
   "cell_type": "code",
   "execution_count": 1,
   "metadata": {},
   "outputs": [],
   "source": [
    "import tensorflow as tf\n",
    "from tensorflow.examples.tutorials.mnist import input_data\n",
    "import numpy as np\n",
    "import matplotlib.pyplot as plt\n",
    "import matplotlib.gridspec as gridspec\n",
    "import os"
   ]
  },
  {
   "cell_type": "code",
   "execution_count": 2,
   "metadata": {},
   "outputs": [
    {
     "name": "stdout",
     "output_type": "stream",
     "text": [
      "Extracting ../../MNIST_data/train-images-idx3-ubyte.gz\n",
      "Extracting ../../MNIST_data/train-labels-idx1-ubyte.gz\n",
      "Extracting ../../MNIST_data/t10k-images-idx3-ubyte.gz\n",
      "Extracting ../../MNIST_data/t10k-labels-idx1-ubyte.gz\n"
     ]
    }
   ],
   "source": [
    "mnist = input_data.read_data_sets('../../MNIST_data', one_hot=True)"
   ]
  },
  {
   "cell_type": "code",
   "execution_count": 3,
   "metadata": {},
   "outputs": [],
   "source": [
    "mb_size = 32\n",
    "X_dim = mnist.train.images.shape[1]\n",
    "y_dim = mnist.train.labels.shape[1]\n",
    "z_dim = 10\n",
    "h_dim = 128\n",
    "eps = 1e-8\n",
    "lr = 1e-3\n",
    "d_steps = 3"
   ]
  },
  {
   "cell_type": "code",
   "execution_count": 8,
   "metadata": {},
   "outputs": [
    {
     "name": "stdout",
     "output_type": "stream",
     "text": [
      "Iter: 0; DC_loss: 6.517; GC_loss: 6.597; Idx; 5\n",
      "Iter: 1000; DC_loss: 0.3253; GC_loss: 6.987; Idx; 3\n",
      "Iter: 2000; DC_loss: 0.2559; GC_loss: 9.542; Idx; 9\n",
      "Iter: 3000; DC_loss: 0.4383; GC_loss: 5.361; Idx; 3\n",
      "Iter: 4000; DC_loss: 0.05455; GC_loss: 6.096; Idx; 7\n",
      "Iter: 5000; DC_loss: 0.05388; GC_loss: 5.365; Idx; 0\n",
      "Iter: 6000; DC_loss: 0.1137; GC_loss: 6.139; Idx; 5\n",
      "Iter: 7000; DC_loss: 0.1899; GC_loss: 6.587; Idx; 1\n",
      "Iter: 8000; DC_loss: 0.4692; GC_loss: 5.962; Idx; 3\n",
      "Iter: 9000; DC_loss: 0.5055; GC_loss: 6.483; Idx; 5\n"
     ]
    }
   ],
   "source": [
    "def plot(samples):\n",
    "    fig = plt.figure(figsize=(4, 4))\n",
    "    gs = gridspec.GridSpec(4, 4)\n",
    "    gs.update(wspace=0.05, hspace=0.05)\n",
    "\n",
    "    for i, sample in enumerate(samples):\n",
    "        ax = plt.subplot(gs[i])\n",
    "        plt.axis('off')\n",
    "        ax.set_xticklabels([])\n",
    "        ax.set_yticklabels([])\n",
    "        ax.set_aspect('equal')\n",
    "        plt.imshow(sample.reshape(28, 28), cmap='Greys_r')\n",
    "\n",
    "    return fig\n",
    "\n",
    "def xavier_init(size):\n",
    "    in_dim = size[0]\n",
    "    xavier_stddev = 1. / tf.sqrt(in_dim / 2.)\n",
    "    return tf.random_normal(shape=size, stddev=xavier_stddev)\n",
    "\n",
    "X = tf.placeholder(tf.float32, shape=[None, X_dim])\n",
    "y = tf.placeholder(tf.float32, shape=[None, y_dim])\n",
    "z = tf.placeholder(tf.float32, shape=[None, z_dim])\n",
    "\n",
    "# Generator\n",
    "G_W1 = tf.Variable(xavier_init([z_dim + y_dim, h_dim]))\n",
    "G_b1 = tf.Variable(tf.zeros(shape=[h_dim]))\n",
    "G_W2 = tf.Variable(xavier_init([h_dim, X_dim]))\n",
    "G_b2 = tf.Variable(tf.zeros(shape=[X_dim]))\n",
    "\n",
    "def generator(z, c):\n",
    "    inputs = tf.concat(axis=1, values=[z, c])\n",
    "    G_h1 = tf.nn.relu(tf.matmul(inputs, G_W1) + G_b1)\n",
    "    G_log_prob = tf.matmul(G_h1, G_W2) + G_b2\n",
    "    G_prob = tf.nn.sigmoid(G_log_prob)\n",
    "    return G_prob\n",
    "\n",
    "# Discriminator\n",
    "D_W1 = tf.Variable(xavier_init([X_dim, h_dim]))\n",
    "D_b1 = tf.Variable(tf.zeros(shape=[h_dim]))\n",
    "D_W2_gan = tf.Variable(xavier_init([h_dim, 1]))\n",
    "D_b2_gan = tf.Variable(tf.zeros(shape=[1]))\n",
    "D_W2_aux = tf.Variable(xavier_init([h_dim, y_dim]))\n",
    "D_b2_aux = tf.Variable(tf.zeros(shape=[y_dim]))\n",
    "\n",
    "def discriminator(X):\n",
    "    D_h1 = tf.nn.relu(tf.matmul(X, D_W1) + D_b1)\n",
    "    out_gan = tf.nn.sigmoid(tf.matmul(D_h1, D_W2_gan) + D_b2_gan)\n",
    "    out_aux = tf.matmul(D_h1, D_W2_aux) + D_b2_aux\n",
    "    return out_gan, out_aux\n",
    "\n",
    "\n",
    "theta_G = [G_W1, G_W2, G_b1, G_b2]\n",
    "theta_D = [D_W1, D_W2_gan, D_W2_aux, D_b1, D_b2_gan, D_b2_aux]\n",
    "\n",
    "\n",
    "def sample_z(m, n):\n",
    "    return np.random.uniform(-1., 1., size=[m, n])\n",
    "\n",
    "\n",
    "def cross_entropy(logit, y):\n",
    "    return -tf.reduce_mean(tf.nn.softmax_cross_entropy_with_logits(logits=logit, labels=y))\n",
    "\n",
    "\n",
    "G_sample = generator(z, y)\n",
    "\n",
    "D_real, C_real = discriminator(X)\n",
    "D_fake, C_fake = discriminator(G_sample)\n",
    "\n",
    "# Cross entropy aux loss\n",
    "C_loss = cross_entropy(C_real, y) + cross_entropy(C_fake, y)\n",
    "\n",
    "# GAN D loss\n",
    "D_loss = tf.reduce_mean(tf.log(D_real + eps) + tf.log(1. - D_fake + eps))\n",
    "DC_loss = -(D_loss + C_loss)\n",
    "\n",
    "# GAN's G loss\n",
    "G_loss = tf.reduce_mean(tf.log(D_fake + eps))\n",
    "GC_loss = -(G_loss + C_loss)\n",
    "\n",
    "D_solver = (tf.train.AdamOptimizer(learning_rate=lr)\n",
    "            .minimize(DC_loss, var_list=theta_D))\n",
    "G_solver = (tf.train.AdamOptimizer(learning_rate=lr)\n",
    "            .minimize(GC_loss, var_list=theta_G))\n",
    "\n",
    "\n",
    "sess = tf.Session()\n",
    "sess.run(tf.global_variables_initializer())\n",
    "\n",
    "if not os.path.exists('out/'):\n",
    "    os.makedirs('out/')\n",
    "\n",
    "i = 0\n",
    "\n",
    "for it in range(10000):\n",
    "    X_mb, y_mb = mnist.train.next_batch(mb_size)\n",
    "    z_mb = sample_z(mb_size, z_dim)\n",
    "\n",
    "    _, DC_loss_curr = sess.run(\n",
    "        [D_solver, DC_loss],\n",
    "        feed_dict={X: X_mb, y: y_mb, z: z_mb}\n",
    "    )\n",
    "\n",
    "    _, GC_loss_curr = sess.run(\n",
    "        [G_solver, GC_loss],\n",
    "        feed_dict={X: X_mb, y: y_mb, z: z_mb}\n",
    "    )\n",
    "\n",
    "    if it % 1000 == 0:\n",
    "        idx = np.random.randint(0, 10)\n",
    "        c = np.zeros([16, y_dim])\n",
    "        c[range(16), idx] = 1\n",
    "\n",
    "        samples = sess.run(G_sample, feed_dict={z: sample_z(16, z_dim), y: c})\n",
    "\n",
    "        print('Iter: {}; DC_loss: {:.4}; GC_loss: {:.4}; Idx; {}'\n",
    "              .format(it, DC_loss_curr, GC_loss_curr, idx))\n",
    "\n",
    "        fig = plot(samples)\n",
    "        plt.savefig('out/{}.png'\n",
    "                    .format(str(i).zfill(3)), bbox_inches='tight')\n",
    "        i += 1\n",
    "        plt.close(fig)"
   ]
  },
  {
   "cell_type": "code",
   "execution_count": 9,
   "metadata": {},
   "outputs": [
    {
     "name": "stdout",
     "output_type": "stream",
     "text": [
      "<tf.Variable 'Variable_10:0' shape=(20, 128) dtype=float32_ref>\n"
     ]
    }
   ],
   "source": [
    "print(G_W1)"
   ]
  },
  {
   "cell_type": "code",
   "execution_count": 10,
   "metadata": {},
   "outputs": [
    {
     "name": "stdout",
     "output_type": "stream",
     "text": [
      "Tensor(\"Placeholder_3:0\", shape=(?, 784), dtype=float32)\n"
     ]
    }
   ],
   "source": [
    "print(X)"
   ]
  },
  {
   "cell_type": "code",
   "execution_count": 11,
   "metadata": {},
   "outputs": [
    {
     "name": "stdout",
     "output_type": "stream",
     "text": [
      "<tf.Variable 'Variable_11:0' shape=(128,) dtype=float32_ref>\n"
     ]
    }
   ],
   "source": [
    "print(G_b1)"
   ]
  },
  {
   "cell_type": "code",
   "execution_count": 12,
   "metadata": {},
   "outputs": [
    {
     "name": "stdout",
     "output_type": "stream",
     "text": [
      "<tf.Variable 'Variable_12:0' shape=(128, 784) dtype=float32_ref>\n"
     ]
    }
   ],
   "source": [
    "print(G_W2)"
   ]
  },
  {
   "cell_type": "code",
   "execution_count": 13,
   "metadata": {},
   "outputs": [
    {
     "name": "stdout",
     "output_type": "stream",
     "text": [
      "<tf.Variable 'Variable_13:0' shape=(784,) dtype=float32_ref>\n"
     ]
    }
   ],
   "source": [
    "print(G_b2)"
   ]
  }
 ],
 "metadata": {
  "kernelspec": {
   "display_name": "Python 3",
   "language": "python",
   "name": "python3"
  },
  "language_info": {
   "codemirror_mode": {
    "name": "ipython",
    "version": 3
   },
   "file_extension": ".py",
   "mimetype": "text/x-python",
   "name": "python",
   "nbconvert_exporter": "python",
   "pygments_lexer": "ipython3",
   "version": "3.6.8"
  }
 },
 "nbformat": 4,
 "nbformat_minor": 2
}
